{
  "nbformat": 4,
  "nbformat_minor": 0,
  "metadata": {
    "colab": {
      "provenance": []
    },
    "kernelspec": {
      "name": "python3",
      "display_name": "Python 3"
    },
    "language_info": {
      "name": "python"
    }
  },
  "cells": [
    {
      "cell_type": "code",
      "execution_count": 1,
      "metadata": {
        "colab": {
          "base_uri": "https://localhost:8080/"
        },
        "id": "R_5xekeAVFvd",
        "outputId": "9af5f2ac-12ca-4cf6-c376-f302f80c0995"
      },
      "outputs": [
        {
          "output_type": "stream",
          "name": "stdout",
          "text": [
            "Collecting openai\n",
            "  Downloading openai-1.14.3-py3-none-any.whl (262 kB)\n",
            "\u001b[2K     \u001b[90m━━━━━━━━━━━━━━━━━━━━━━━━━━━━━━━━━━━━━━━━\u001b[0m \u001b[32m262.9/262.9 kB\u001b[0m \u001b[31m1.9 MB/s\u001b[0m eta \u001b[36m0:00:00\u001b[0m\n",
            "\u001b[?25hRequirement already satisfied: anyio<5,>=3.5.0 in /usr/local/lib/python3.10/dist-packages (from openai) (3.7.1)\n",
            "Requirement already satisfied: distro<2,>=1.7.0 in /usr/lib/python3/dist-packages (from openai) (1.7.0)\n",
            "Collecting httpx<1,>=0.23.0 (from openai)\n",
            "  Downloading httpx-0.27.0-py3-none-any.whl (75 kB)\n",
            "\u001b[2K     \u001b[90m━━━━━━━━━━━━━━━━━━━━━━━━━━━━━━━━━━━━━━━━\u001b[0m \u001b[32m75.6/75.6 kB\u001b[0m \u001b[31m4.4 MB/s\u001b[0m eta \u001b[36m0:00:00\u001b[0m\n",
            "\u001b[?25hRequirement already satisfied: pydantic<3,>=1.9.0 in /usr/local/lib/python3.10/dist-packages (from openai) (2.6.4)\n",
            "Requirement already satisfied: sniffio in /usr/local/lib/python3.10/dist-packages (from openai) (1.3.1)\n",
            "Requirement already satisfied: tqdm>4 in /usr/local/lib/python3.10/dist-packages (from openai) (4.66.2)\n",
            "Requirement already satisfied: typing-extensions<5,>=4.7 in /usr/local/lib/python3.10/dist-packages (from openai) (4.10.0)\n",
            "Requirement already satisfied: idna>=2.8 in /usr/local/lib/python3.10/dist-packages (from anyio<5,>=3.5.0->openai) (3.6)\n",
            "Requirement already satisfied: exceptiongroup in /usr/local/lib/python3.10/dist-packages (from anyio<5,>=3.5.0->openai) (1.2.0)\n",
            "Requirement already satisfied: certifi in /usr/local/lib/python3.10/dist-packages (from httpx<1,>=0.23.0->openai) (2024.2.2)\n",
            "Collecting httpcore==1.* (from httpx<1,>=0.23.0->openai)\n",
            "  Downloading httpcore-1.0.5-py3-none-any.whl (77 kB)\n",
            "\u001b[2K     \u001b[90m━━━━━━━━━━━━━━━━━━━━━━━━━━━━━━━━━━━━━━━━\u001b[0m \u001b[32m77.9/77.9 kB\u001b[0m \u001b[31m5.4 MB/s\u001b[0m eta \u001b[36m0:00:00\u001b[0m\n",
            "\u001b[?25hCollecting h11<0.15,>=0.13 (from httpcore==1.*->httpx<1,>=0.23.0->openai)\n",
            "  Downloading h11-0.14.0-py3-none-any.whl (58 kB)\n",
            "\u001b[2K     \u001b[90m━━━━━━━━━━━━━━━━━━━━━━━━━━━━━━━━━━━━━━━━\u001b[0m \u001b[32m58.3/58.3 kB\u001b[0m \u001b[31m4.5 MB/s\u001b[0m eta \u001b[36m0:00:00\u001b[0m\n",
            "\u001b[?25hRequirement already satisfied: annotated-types>=0.4.0 in /usr/local/lib/python3.10/dist-packages (from pydantic<3,>=1.9.0->openai) (0.6.0)\n",
            "Requirement already satisfied: pydantic-core==2.16.3 in /usr/local/lib/python3.10/dist-packages (from pydantic<3,>=1.9.0->openai) (2.16.3)\n",
            "Installing collected packages: h11, httpcore, httpx, openai\n",
            "Successfully installed h11-0.14.0 httpcore-1.0.5 httpx-0.27.0 openai-1.14.3\n"
          ]
        }
      ],
      "source": [
        "!pip install openai"
      ]
    },
    {
      "cell_type": "code",
      "source": [
        "import openai"
      ],
      "metadata": {
        "id": "fpU28w7-VT0N"
      },
      "execution_count": 3,
      "outputs": []
    },
    {
      "cell_type": "code",
      "source": [
        "# seta a API key\n",
        "\n",
        "openai.api_key = 'CHAVE SECRETA' # Chave copiada da plataforma OPENAI\n",
        "\n",
        "\n",
        "\n",
        "openai.ChatCompletion.create(\n",
        "\n",
        "  model = \"gpt-3.5-turbo\", #\"gpt-4\" caso queira usar a versão 4 que é atual, porém mais pesado\n",
        "\n",
        "  messages=[\n",
        "\n",
        "        {\"role\": \"system\", \"content\": \"Você é um assistente prestativo.\"} # seta a persona do modelo, se vai ser formal,sarcástico,etc.\n",
        "\n",
        "  ]\n",
        "\n",
        "\n",
        "\n",
        "imput_message = imput('Esperando imput: ')\n",
        "\n",
        "messages.append({\"role\": \"user\",\"content\": imput_message}) # adiciona sua pergunta no histórico do chat\n",
        "\n",
        "\n",
        "\n",
        "#  enquanto o imput não for a palavra 'fim'\n",
        "\n",
        "while imput_message != 'fim':\n",
        "\n",
        "  response = openai.ChatCompletion.create(\n",
        "\n",
        "    model = \"gpt-3.5-turbo\", #\"gpt-4\" caso queira usar a versão 4 que é atual, porém mais pesado\n",
        "\n",
        "    messages = messages,\n",
        "\n",
        "    temperature = 1,\n",
        "\n",
        "    max_tokens = 400 #tamanho máximo de letras que poderão ser usadas para responder\n",
        "\n",
        " )\n",
        "\n",
        "\n",
        "\n",
        " answer = response ['choices'][0]['message']['content']\n",
        "\n",
        " messages.append({\"role\": \"assistant\", \"content\": answer})\n",
        "\n",
        "\n",
        "\n",
        " #imprime a resposta do chat GPT\n",
        "\n",
        " print(\"Resposta\", answer)\n",
        "\n",
        "\n",
        "\n",
        " imput_message = imput('Esperando input: ')\n",
        "\n",
        " messages.append({\"role\": \"user\", \"content\": input_message}) # adiciona sua pergunta no histórico do chat"
      ],
      "metadata": {
        "id": "yXMzXxQAVX92"
      },
      "execution_count": null,
      "outputs": []
    }
  ]
}